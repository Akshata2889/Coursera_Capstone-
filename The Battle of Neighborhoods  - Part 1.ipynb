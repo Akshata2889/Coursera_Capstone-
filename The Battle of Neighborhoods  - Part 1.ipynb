{
    "cells": [
        {
            "cell_type": "markdown",
            "metadata": {
                "collapsed": true
            },
            "source": "# Introduction / Business  Problem\n\n## Background on financial centres \n\nFinancial centres are locations with large concentration of banking institutions, asset management companies , insurance companies and other financial market players. They are catalyst for global growth with economic influence. \n\nLondon has been leading international financial centre since 19 century. It is largest centre for derivative markets, foreign exchange markets , money markets and debt securities.  However with the Brexit, financial market has been impacted greatly.\n\nBased on Global Financial Centres Index, New York is rated one of top most financial centre with ratings of 794.  It is leading market for trading in public equity and debt capital markets. The New York Federal Reserve Bank, the largest within the Federal Reserve System, regulates financial institutions and implements U.S. monetary policy, which in turn influences the world's economy. \n\n\n\n## Business Problem\n\nLondon and  New York are both prominent financial centres, providing wide range of financial services. They have numerous leading banks and financial intuitions which are headquartered either in one of these financial centres. Both of them have foothold on international finance.\n\nHence  the question is - Which one of both cities is better player in financial markets ?\n\n"
        },
        {
            "cell_type": "code",
            "execution_count": null,
            "metadata": {},
            "outputs": [],
            "source": ""
        }
    ],
    "metadata": {
        "kernelspec": {
            "display_name": "Python 3.6",
            "language": "python",
            "name": "python3"
        },
        "language_info": {
            "codemirror_mode": {
                "name": "ipython",
                "version": 3
            },
            "file_extension": ".py",
            "mimetype": "text/x-python",
            "name": "python",
            "nbconvert_exporter": "python",
            "pygments_lexer": "ipython3",
            "version": "3.6.9"
        }
    },
    "nbformat": 4,
    "nbformat_minor": 1
}